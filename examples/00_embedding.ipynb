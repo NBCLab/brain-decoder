{
 "cells": [
  {
   "cell_type": "code",
   "execution_count": 1,
   "metadata": {},
   "outputs": [],
   "source": [
    "from braindec.embedding import TextEmbedding\n",
    "#from huggingface_hub import login\n",
    "#login(token=\"your_token_here\")"
   ]
  },
  {
   "cell_type": "code",
   "execution_count": 7,
   "metadata": {},
   "outputs": [],
   "source": [
    "import pickle"
   ]
  },
  {
   "cell_type": "code",
   "execution_count": 9,
   "metadata": {},
   "outputs": [],
   "source": [
    "preprocessed_train_gaussian_embeddings = \"/Users/julioaperaza/Documents/GitHub/NeuroConText/data/preprocessed_train_gaussian_embeddings.pkl\"\n",
    "preprocessed_train_text_embeddings = \"/Users/julioaperaza/Documents/GitHub/NeuroConText/data/preprocessed_train_text_embeddings.pkl\""
   ]
  },
  {
   "cell_type": "code",
   "execution_count": 13,
   "metadata": {},
   "outputs": [],
   "source": [
    "with open(preprocessed_train_gaussian_embeddings, 'rb') as f:\n",
    "    preprocessed_train_gaussian_embeddings_arr = pickle.load(f)\n",
    "\n",
    "with open(preprocessed_train_text_embeddings, 'rb') as f:\n",
    "    preprocessed_train_text_embeddings_arr = pickle.load(f)"
   ]
  },
  {
   "cell_type": "code",
   "execution_count": 14,
   "metadata": {},
   "outputs": [
    {
     "data": {
      "text/plain": [
       "(19674, 4096)"
      ]
     },
     "execution_count": 14,
     "metadata": {},
     "output_type": "execute_result"
    }
   ],
   "source": [
    "preprocessed_train_text_embeddings_arr.shape"
   ]
  },
  {
   "cell_type": "code",
   "execution_count": 2,
   "metadata": {},
   "outputs": [
    {
     "name": "stderr",
     "output_type": "stream",
     "text": [
      "Loading checkpoint shards: 100%|██████████| 2/2 [00:05<00:00,  2.51s/it]\n"
     ]
    }
   ],
   "source": [
    "# Initialize the generator\n",
    "generator = TextEmbedding()"
   ]
  },
  {
   "cell_type": "code",
   "execution_count": 3,
   "metadata": {},
   "outputs": [],
   "source": [
    "# Set your vocabulary\n",
    "vocabulary = [\"apple\", \"banana\", \"orange\", \"fruit\", \"vegetable\", \"food\"]\n",
    "generator.set_vocabulary(vocabulary)"
   ]
  },
  {
   "cell_type": "code",
   "execution_count": 4,
   "metadata": {},
   "outputs": [
    {
     "name": "stdout",
     "output_type": "stream",
     "text": [
      "orange: 0.1837\n",
      "apple: 0.1746\n",
      "banana: 0.1636\n",
      "fruit: 0.1627\n",
      "food: 0.1621\n"
     ]
    }
   ],
   "source": [
    "# Generate embedding for some text\n",
    "text = \"I love eating fresh orange\"\n",
    "embedding = generator(text)\n",
    "\n",
    "# Find most similar words in vocabulary\n",
    "similar_words = generator.decode_embedding(embedding, top_k=5)\n",
    "\n",
    "# Print results\n",
    "for word, similarity in similar_words:\n",
    "    print(f\"{word}: {similarity:.4f}\")"
   ]
  },
  {
   "cell_type": "code",
   "execution_count": 6,
   "metadata": {},
   "outputs": [
    {
     "data": {
      "text/plain": [
       "(4096,)"
      ]
     },
     "execution_count": 6,
     "metadata": {},
     "output_type": "execute_result"
    }
   ],
   "source": [
    "embedding.shape"
   ]
  },
  {
   "cell_type": "code",
   "execution_count": null,
   "metadata": {},
   "outputs": [],
   "source": []
  }
 ],
 "metadata": {
  "kernelspec": {
   "display_name": "braindec-env",
   "language": "python",
   "name": "python3"
  },
  "language_info": {
   "codemirror_mode": {
    "name": "ipython",
    "version": 3
   },
   "file_extension": ".py",
   "mimetype": "text/x-python",
   "name": "python",
   "nbconvert_exporter": "python",
   "pygments_lexer": "ipython3",
   "version": "3.12.4"
  }
 },
 "nbformat": 4,
 "nbformat_minor": 2
}
